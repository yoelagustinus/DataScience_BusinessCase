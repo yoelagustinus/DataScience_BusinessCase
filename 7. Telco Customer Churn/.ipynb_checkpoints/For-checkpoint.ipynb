{
 "cells": [
  {
   "cell_type": "markdown",
   "id": "08434743",
   "metadata": {},
   "source": [
    "### Penjelasan Materi List dengan Menggunakan For"
   ]
  },
  {
   "cell_type": "code",
   "execution_count": 1,
   "id": "454b20a2",
   "metadata": {},
   "outputs": [
    {
     "name": "stdout",
     "output_type": "stream",
     "text": [
      "1 2 3 \n",
      "4 5 6 \n",
      "7 8 9 \n"
     ]
    }
   ],
   "source": [
    "# Contoh 1: Nested for loop untuk mencetak setiap elemen dalam list 2D\n",
    "matrix = [[1, 2, 3],\n",
    "          [4, 5, 6],\n",
    "          [7, 8, 9]]\n",
    "\n",
    "\n",
    "\n",
    "for row in matrix:\n",
    "    for element in row:\n",
    "        print(element, end=' ')\n",
    "    print()"
   ]
  },
  {
   "cell_type": "code",
   "execution_count": 8,
   "id": "ba17d219",
   "metadata": {},
   "outputs": [
    {
     "data": {
      "text/plain": [
       "[7, 8, 9]"
      ]
     },
     "execution_count": 8,
     "metadata": {},
     "output_type": "execute_result"
    }
   ],
   "source": [
    "matrix[2]"
   ]
  },
  {
   "cell_type": "code",
   "execution_count": 5,
   "id": "f6c6d2c3",
   "metadata": {},
   "outputs": [
    {
     "name": "stdout",
     "output_type": "stream",
     "text": [
      "apple-red\n",
      "apple-yellow\n",
      "banana-red\n",
      "banana-yellow\n",
      "orange-red\n",
      "orange-yellow\n"
     ]
    }
   ],
   "source": [
    "fruits = ['apple', 'banana', 'orange']\n",
    "colors = ['red', 'yellow']\n",
    "\n",
    "for fruit in fruits:\n",
    "    for color in colors:\n",
    "        print(fruit + '-' + color)"
   ]
  },
  {
   "cell_type": "code",
   "execution_count": null,
   "id": "8188f845",
   "metadata": {},
   "outputs": [],
   "source": []
  }
 ],
 "metadata": {
  "kernelspec": {
   "display_name": "Python 3 (ipykernel)",
   "language": "python",
   "name": "python3"
  },
  "language_info": {
   "codemirror_mode": {
    "name": "ipython",
    "version": 3
   },
   "file_extension": ".py",
   "mimetype": "text/x-python",
   "name": "python",
   "nbconvert_exporter": "python",
   "pygments_lexer": "ipython3",
   "version": "3.10.9"
  }
 },
 "nbformat": 4,
 "nbformat_minor": 5
}
